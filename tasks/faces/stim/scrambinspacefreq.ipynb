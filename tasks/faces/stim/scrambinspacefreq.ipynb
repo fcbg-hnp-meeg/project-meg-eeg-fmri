{
 "cells": [
  {
   "cell_type": "code",
   "execution_count": null,
   "id": "1a3b093c",
   "metadata": {},
   "outputs": [],
   "source": [
    "import imageio\n",
    "import numpy as np"
   ]
  },
  {
   "cell_type": "code",
   "execution_count": 13,
   "id": "f4041bf9",
   "metadata": {},
   "outputs": [
    {
     "data": {
      "text/plain": [
       "['D:\\\\project_meg-eeg-fMRI\\\\tasks\\\\faces\\\\stim\\\\Stirling\\\\frontal_neutral\\\\f1v1e1.gif']"
      ]
     },
     "execution_count": 13,
     "metadata": {},
     "output_type": "execute_result"
    }
   ],
   "source": [
    "def scramblinspacefreq(folder_path, image_file):\n",
    "#folder_path = r'D:\\project_meg-eeg-fMRI\\tasks\\faces\\stim\\Stirling\\frontal_neutral'\n",
    "#image_file = 'f1v1e1.gif'"
   ]
  },
  {
   "cell_type": "code",
   "execution_count": 15,
   "id": "d54a09d1",
   "metadata": {},
   "outputs": [
    {
     "name": "stderr",
     "output_type": "stream",
     "text": [
      "C:\\Users\\vrochas\\AppData\\Local\\Temp\\ipykernel_18292\\2258488025.py:5: DeprecationWarning: Starting with ImageIO v3 the behavior of this function will switch to that of iio.v3.imread. To keep the current behavior (and make this warning disappear) use `import imageio.v2 as imageio` or call `imageio.v2.imread` directly.\n",
      "  pic = imageio.imread(image_path+ \"\\\\\" +image_file)\n"
     ]
    }
   ],
   "source": [
    "# Load the image\n",
    "pic = imageio.imread(folder_path+ \"\\\\\" +image_file)\n",
    "\n",
    "# Convert the image to the frequency domain\n",
    "fft_pic = np.fft.fftn(pic, axes=(0, 1))\n",
    "\n",
    "# Randomize the phases in the frequency spectrum\n",
    "random_phases = np.exp(1j * 2 * np.pi * np.random.rand(*fft_pic.shape))\n",
    "\n",
    "# Apply the randomized phases to the original spectrum\n",
    "scrambled_fft_pic = np.abs(fft_pic) * random_phases\n",
    "\n",
    "# Transform the image back to the spatial domain\n",
    "scrambled_pic = np.fft.ifftn(scrambled_fft_pic, axes=(0, 1)).real\n",
    "\n",
    "# Normalize the scrambled image to the original image's range\n",
    "scrambled_pic = (scrambled_pic - scrambled_pic.min()) / (scrambled_pic.max() - scrambled_pic.min())\n",
    "\n",
    "\n",
    "# Save the scrambled image\n",
    "imageio.imwrite(folder_path+\"\\\\\"+\"scr_\"+image_file, np.uint8(scrambled_pic * 255))"
   ]
  },
  {
   "cell_type": "code",
   "execution_count": null,
   "id": "75a6edc7",
   "metadata": {},
   "outputs": [],
   "source": []
  }
 ],
 "metadata": {
  "kernelspec": {
   "display_name": "Python [conda env:root] *",
   "language": "python",
   "name": "conda-root-py"
  },
  "language_info": {
   "codemirror_mode": {
    "name": "ipython",
    "version": 3
   },
   "file_extension": ".py",
   "mimetype": "text/x-python",
   "name": "python",
   "nbconvert_exporter": "python",
   "pygments_lexer": "ipython3",
   "version": "3.9.7"
  }
 },
 "nbformat": 4,
 "nbformat_minor": 5
}
