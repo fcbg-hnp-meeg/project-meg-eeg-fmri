{
 "cells": [
  {
   "cell_type": "code",
   "execution_count": null,
   "id": "3caea1e6",
   "metadata": {},
   "outputs": [],
   "source": [
    "import os\n",
    "import imageio\n",
    "import numpy as np\n",
    "\n",
    "# Folder path containing the images\n",
    "folder_path = r'D:\\project_meg-eeg-fMRI\\tasks\\faces\\stim\\Stirling\\frontal_neutral'\n",
    "\n",
    "# List all files in the folder\n",
    "file_list = os.listdir(folder_path)\n",
    "\n",
    "# Filter only image files (modify the extensions as required)\n",
    "image_files = [f for f in file_list if f.endswith(('.png', '.jpg', '.gif'))]\n",
    "\n",
    "# Transformation function example (you can replace this with your own transformation logic)\n",
    "def scramblinspacefreq(folder_path, image_file):\n",
    "    return\n",
    "\n",
    "# Loop through each image file and apply the transformation\n",
    "for image_file in image_files:\n",
    "\n",
    "    # Apply the transformation\n",
    "    transformed_image = scramblinspacefreq(folder_path, image_file)\n"
   ]
  },
  {
   "cell_type": "code",
   "execution_count": null,
   "id": "e9837c0f",
   "metadata": {},
   "outputs": [],
   "source": [
    "\n",
    "\n"
   ]
  },
  {
   "cell_type": "code",
   "execution_count": 24,
   "id": "136c07cd",
   "metadata": {},
   "outputs": [
    {
     "name": "stderr",
     "output_type": "stream",
     "text": [
      "C:\\Users\\vrochas\\AppData\\Local\\Temp\\ipykernel_9212\\814588366.py:18: DeprecationWarning: Starting with ImageIO v3 the behavior of this function will switch to that of iio.v3.imread. To keep the current behavior (and make this warning disappear) use `import imageio.v2 as imageio` or call `imageio.v2.imread` directly.\n",
      "  pic = imageio.imread(folder_path+ \"\\\\\" +image_file)\n"
     ]
    }
   ],
   "source": [
    "## This loop will read images in folder\n",
    "## Crop 55 pixels on every borders\n",
    "## Transform to grayscale\n",
    "## and Save a new folder\n",
    "\n",
    "import os\n",
    "import imageio\n",
    "import numpy as np\n",
    "\n",
    "# Folder path containing the images\n",
    "folder_path = r'D:\\project_meg-eeg-fMRI\\tasks\\faces\\stim\\thispersondoesnotexist'\n",
    "    \n",
    "# List all files in the folder\n",
    "file_list = os.listdir(folder_path)\n",
    "\n",
    "# Filter only image files (modify the extensions as required)\n",
    "image_files = [f for f in file_list if f.endswith(('.png', '.jpg', '.gif'))]\n",
    "\n",
    "# Loop through each image file and apply the transformation\n",
    "for image_file in image_files:\n",
    "\n",
    "    # Load the image\n",
    "    pic = imageio.imread(folder_path+ \"\\\\\" +image_file)\n",
    "    \n",
    "    # Crop the image from thispersondoesnotexist here to remove watermarking\n",
    "    # Originally 1024 x 1024\n",
    "    orgsize = 1024\n",
    "    y=55  # that is enough\n",
    "    height=orgsize-2*y\n",
    "    x=y\n",
    "    width=orgsize-2*y    \n",
    "    pic = pic[y:y+height, x:x+width]\n",
    "    \n",
    "    # Convert image to grayscale\n",
    "    pic = np.dot(pic[..., :3], [0.2989, 0.5870, 0.1140])\n",
    "    \n",
    "    # Save the gray image\n",
    "    imageio.imwrite(folder_path+\"\\\\gray\\\\\"+\"g_\"+image_file, np.uint8(pic))"
   ]
  },
  {
   "cell_type": "code",
   "execution_count": 25,
   "id": "90ea037c",
   "metadata": {},
   "outputs": [
    {
     "name": "stderr",
     "output_type": "stream",
     "text": [
      "C:\\Users\\vrochas\\AppData\\Local\\Temp\\ipykernel_9212\\668309719.py:19: DeprecationWarning: Starting with ImageIO v3 the behavior of this function will switch to that of iio.v3.imread. To keep the current behavior (and make this warning disappear) use `import imageio.v2 as imageio` or call `imageio.v2.imread` directly.\n",
      "  pic = imageio.imread(folder_path+ \"\\\\\" +image_file)\n"
     ]
    }
   ],
   "source": [
    "## This loop will read images in folder\n",
    "## randomsied the phases of the image decomposition\n",
    "## and Save the results\n",
    "\n",
    "import os\n",
    "import imageio\n",
    "import numpy as np\n",
    "\n",
    "# Folder path containing the images\n",
    "#folder_path = r'D:\\project_meg-eeg-fMRI\\tasks\\faces\\stim\\Stirling\\frontal_neutral'\n",
    "folder_path = r'D:\\project_meg-eeg-fMRI\\tasks\\faces\\stim\\thispersondoesnotexist\\gray'\n",
    "    \n",
    "# List all files in the folder\n",
    "file_list = os.listdir(folder_path)\n",
    "\n",
    "# Filter only image files (modify the extensions as required)\n",
    "image_files = [f for f in file_list if f.endswith(('.png', '.jpg', '.gif'))]\n",
    "\n",
    "# Loop through each image file and apply the transformation\n",
    "for image_file in image_files:\n",
    "\n",
    "    # Load the image\n",
    "    pic = imageio.imread(folder_path+ \"\\\\\" +image_file)\n",
    "    \n",
    "    # Convert the image to the frequency domain\n",
    "    fft_pic = np.fft.fftn(pic, axes=(0, 1))\n",
    "\n",
    "    # Randomize the phases in the frequency spectrum\n",
    "    random_phases = np.exp(1j * 2 * np.pi * np.random.rand(*fft_pic.shape))\n",
    "\n",
    "    # Apply the randomized phases to the original spectrum\n",
    "    scrambled_fft_pic = np.abs(fft_pic) * random_phases\n",
    "\n",
    "    # Transform the image back to the spatial domain\n",
    "    scrambled_pic = np.fft.ifftn(scrambled_fft_pic, axes=(0, 1)).real\n",
    "\n",
    "    # Normalize the scrambled image to the original image's range\n",
    "    scrambled_pic = (scrambled_pic - scrambled_pic.min()) / (scrambled_pic.max() - scrambled_pic.min())\n",
    "    \n",
    "    # Save the scrambled image\n",
    "    imageio.imwrite(folder_path+\"\\\\\"+\"scr_\"+image_file, np.uint8(scrambled_pic * 255))"
   ]
  },
  {
   "cell_type": "code",
   "execution_count": null,
   "id": "0fbff559",
   "metadata": {},
   "outputs": [],
   "source": []
  }
 ],
 "metadata": {
  "kernelspec": {
   "display_name": "Python [conda env:root] *",
   "language": "python",
   "name": "conda-root-py"
  },
  "language_info": {
   "codemirror_mode": {
    "name": "ipython",
    "version": 3
   },
   "file_extension": ".py",
   "mimetype": "text/x-python",
   "name": "python",
   "nbconvert_exporter": "python",
   "pygments_lexer": "ipython3",
   "version": "3.9.7"
  }
 },
 "nbformat": 4,
 "nbformat_minor": 5
}
