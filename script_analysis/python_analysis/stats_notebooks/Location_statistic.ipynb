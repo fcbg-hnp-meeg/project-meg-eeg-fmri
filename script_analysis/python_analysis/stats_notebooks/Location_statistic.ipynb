{
 "cells": [
  {
   "cell_type": "markdown",
   "id": "6b76abe7-cc29-4aae-958f-76e57ecd422a",
   "metadata": {},
   "source": [
    "# R location statisic"
   ]
  },
  {
   "cell_type": "markdown",
   "id": "a8c7729d-61eb-46db-a0a2-4ad74eac03a7",
   "metadata": {},
   "source": [
    "This notebook corresponds to the section titled \"Compares dMEG and dEEG means to zero.\" and corresponds to the `mean_stats_analysis` function from the `MEEG_fMRI_whole_compa_script.py` script.\n",
    "\n",
    "Within this notebook, you can perform the mean comparison analysis using either an R script (`diff_zero.R` with the `mean_diff_zero` function from `utils.stats_utils`)."
   ]
  },
  {
   "cell_type": "markdown",
   "id": "c691df3c-1321-40eb-80bd-88223db18b0c",
   "metadata": {},
   "source": [
    "## Necessary Libraries"
   ]
  },
  {
   "cell_type": "code",
   "execution_count": null,
   "id": "226b9f62-614f-4b19-86b8-982d134d4786",
   "metadata": {},
   "outputs": [],
   "source": [
    "from pathlib import Path\n",
    "import sys\n",
    "\n",
    "# Personal Imports\n",
    "# Add the directory that contains the utils package to sys.path\n",
    "sys.path.append(str(Path('..').resolve()))\n",
    "from utils.stats_utils import mean_diff_zero"
   ]
  },
  {
   "cell_type": "markdown",
   "id": "6d5a6bbc-80af-4225-a551-57526749aa66",
   "metadata": {},
   "source": [
    "## Necessary path"
   ]
  },
  {
   "cell_type": "markdown",
   "id": "d7ecf17a-9078-4bdc-ad39-81fdfda557c7",
   "metadata": {},
   "source": [
    "Before running the notebooks, ensure that you update the paths in `config.py` to match your local setup:\n",
    "\n",
    "- **`LOCAL_DIR`**: Set this to the directory where your BIDS-formatted data is stored.\n",
    "- **`R_WORKING_DIRECTORY`**: Specify the directory where your R scripts are saved.\n",
    "- **`RSCRIPT_EXECUTABLE`**: Provide the path to the `Rscript` executable on your computer. For more details, refer to `config.md`."
   ]
  },
  {
   "cell_type": "code",
   "execution_count": null,
   "id": "a5222084-dbb3-4417-80a0-314cf0bc00b2",
   "metadata": {},
   "outputs": [],
   "source": [
    "from config import LOCAL_DIR, R_WORKING_DIRECTORY, RSCRIPT_EXECUTABLE\n",
    "\n",
    "local_dir = LOCAL_DIR\n",
    "working_directory = R_WORKING_DIRECTORY\n",
    "\n",
    "# Define the Rscript executable path if necessary (otherwise, use just 'Rscript')\n",
    "rscript_executable = RSCRIPT_EXECUTABLE  # or provide the full path if needed"
   ]
  },
  {
   "cell_type": "markdown",
   "id": "6592ba0d-4ec0-4756-a29c-412ae9aabe37",
   "metadata": {},
   "source": [
    "## Run the script"
   ]
  },
  {
   "cell_type": "markdown",
   "id": "7505e430-71d1-49b7-b00f-65a84d0ba587",
   "metadata": {},
   "source": [
    "### Explanation of the R Process\n",
    "\n",
    "1. **Loading Data:**\n",
    "   - The function begins by loading POA (Point of Analysis) or wCOG (weighted Center of Gravity) data from an Excel file that contains pre-computed Euclidean distances.\n",
    "\n",
    "2. **Data Extraction:**\n",
    "   - EEG and MEG distances are separately loaded using the `prepare_modality_df` and `clean_column_names` functions from `statistical_zeros_analysis_utils.R`. This step is crucial for determining whether the mean of dEEG (or dMEG) significantly deviates from zero.\n",
    "\n",
    "3. **Location Analysis:**\n",
    "   - Next, using the `compute_location_analysis` function from `statistical_zeros_analysis_utils.R`, the analysis is performed for each combination of time point (tp) and condition. The function applies a Multivariate Non-Parametric Test (either a sign test or signed rank test) with the `sr.loc.test` function from the `SpatialNP` package. This multivariate test assesses the location of one or more samples based on spatial signs or ranks. For a single sample, it tests the null hypothesis about a specific location. For multiple samples, it tests the null hypothesis that all samples have the same location.\n",
    "\n",
    "4. **Results and Plotting:**\n",
    "   - The results from the dispersion tests are compiled into a DataFrame and saved as an Excel file in the specified `local_dir` directory. The file is named `all_subjects_analysis-POA/COG_modality_comparison_analysis-location.csv`.\n",
    "\n",
    "5. **Parameters:**\n",
    "   - The function allows for the specification of the following parameters:\n",
    "     - `nb_permu`: The number of permutations used in the dispersion test, which affects the robustness and accuracy of the p-value estimation.\n",
    "     - `null_value`: The value against which the dEEG (or dMEG) mean is compared during the analysis.\n",
    "     - `score`: Specifies the type of statistical test performed, which can be either 'sign' or 'rank'.\n",
    "\n",
    "### **References:**\n",
    "   - For more information on the `sr.loc.test` function, refer to the [SpatialNP Documentation](https://search.r-project.org/CRAN/refmans/SpatialNP/html/locationtests.html).\n",
    "   - For theoretical background on distance-based tests for multivariate dispersion, consult the following article:\n",
    "       - Oja, H., & Randles, R. H. (2004). Multivariate Nonparametric Tests. *Statistical Science, 19*(4), 598–605. [Link to article](http://www.jstor.org/stable/4144430).\n"
   ]
  },
  {
   "cell_type": "markdown",
   "id": "732c32d6-53c9-44f0-8d5f-0acd0f88abb4",
   "metadata": {},
   "source": [
    "### Details about the Results DataFrame:\n",
    "\n",
    "The columns in the results DataFrame are:\n",
    "\n",
    "- **modality**: The modality under study.\n",
    "- **condition**: The specific condition for which the statistics were computed.\n",
    "- **tp**: The time point at which the statistics were computed.\n",
    "- **method_name**: Indicates the method used, either 'sign' or 'rank'.\n",
    "- **q_2**:\n",
    "  - **For Sign Tests**: The statistic \\( Q^2 \\), defined as `Q^2 = n * p * ||S̄||^2`. This measures the deviation of the average spatial sign vector `S̄` from the origin, reflecting the concentration of data directions around a central point.\n",
    "  - **For Rank Tests**: The statistic \\( U^2 \\). This measures how much the average rank vectors deviate from zero after applying transformation and normalization. It assesses the distribution of ranks in the multivariate setting, accounting for affine invariance.\n",
    "- for rank tests, the q_2 column correspond to the statistic U2, which  Measures the extent to which the average rank vectors deviate from zero after transformation and normalization.\n",
    "- **sample_size**: The number of data points in the sample.\n",
    "- **number_of_groups**: The number of groups in the analysis (in this case, always one).\n",
    "- **comparison_value**: The value to which the mean is compared.\n",
    "- **p_value**: The p-value obtained from the test.\n",
    "- **number_of_permutations**: The number of permutations performed to compute the statistics.\n",
    "\n",
    "\n"
   ]
  },
  {
   "cell_type": "code",
   "execution_count": null,
   "id": "846486d4-f392-425e-b3fa-903ba1cfcdaf",
   "metadata": {},
   "outputs": [],
   "source": [
    "nb_permu = 999\n",
    "null_value = None\n",
    "score = 'sign'\n",
    "\n",
    "try:\n",
    "    print('Beginning POA analysis.')\n",
    "    mean_diff_zero(working_directory, local_dir, rscript_executable, analysis_type='POA', nb_permu=nb_permu, null_value=null_value, score=score)\n",
    "except Exception as e:\n",
    "    print(f\"An error occurred during the POA analysis: {e}\")\n",
    "    raise\n",
    "\n",
    "try:\n",
    "    print('Beginning COG analysis.')\n",
    "    mean_diff_zero(working_directory, local_dir, rscript_executable, analysis_type='COG', nb_permu=nb_permu, null_value=null_value, score=score)\n",
    "except Exception as e:\n",
    "    print(f\"An error occurred during the COG analysis: {e}\")\n",
    "    raise"
   ]
  },
  {
   "cell_type": "code",
   "execution_count": null,
   "id": "14f655f7-801f-440d-9b10-71bfeaafda1d",
   "metadata": {},
   "outputs": [],
   "source": []
  }
 ],
 "metadata": {
  "kernelspec": {
   "display_name": "Python 3 (ipykernel)",
   "language": "python",
   "name": "python3"
  },
  "language_info": {
   "codemirror_mode": {
    "name": "ipython",
    "version": 3
   },
   "file_extension": ".py",
   "mimetype": "text/x-python",
   "name": "python",
   "nbconvert_exporter": "python",
   "pygments_lexer": "ipython3",
   "version": "3.12.5"
  }
 },
 "nbformat": 4,
 "nbformat_minor": 5
}
